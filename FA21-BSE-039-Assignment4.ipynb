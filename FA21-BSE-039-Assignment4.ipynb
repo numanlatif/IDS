#December 11, 2023
#CSC461 – Assignment4 – NLP
#Numan Latif
#FA21-BSE-039
#In this task we calculate the BOW,TF,IDF and TF.IDF
#Question 1

from sklearn.feature_extraction.text import CountVectorizer, TfidfVectorizer
import pandas as pd

sentence = [
    "data science is one of the most important courses in computer science",
    "this is one of the best data science courses",
    "the data scientists perform data analysis"
]

vectorizer_bow = CountVectorizer()
X_bow = vectorizer_bow.fit_transform(sentence)
bow_df = pd.DataFrame(X_bow.toarray(), columns=vectorizer_bow.get_feature_names_out())
bow_df.insert(0, 'Sentence', ['S1', 'S2', 'S3'])
print("\nBoW:\n", bow_df.round(3).to_string(index=False))

vectorizer_tf = CountVectorizer()
X_tf = vectorizer_tf.fit_transform(sentence)
tf_df = pd.DataFrame(X_tf.toarray(), columns=vectorizer_tf.get_feature_names_out())
tf_df = tf_df.div(tf_df.sum(axis=1), axis=0)
tf_df.insert(0, 'Sentence', ['S1', 'S2', 'S3'])
print("\nTF:\n", tf_df.round(3).to_string(index=False))

vectorizer_idf = TfidfVectorizer(use_idf=False, norm='l1')
X_idf = vectorizer_idf.fit_transform(sentence)
idf_df = pd.DataFrame(X_idf.toarray(), columns=vectorizer_idf.get_feature_names_out())
idf_df.insert(0, 'Sentence', ['S1', 'S2', 'S3'])
print("\nIDF:\n", idf_df.round(3).to_string(index=False))

vectorizer_tfidf = TfidfVectorizer()
X_tfidf = vectorizer_tfidf.fit_transform(sentence)
tfidf_df = pd.DataFrame(X_tfidf.toarray(), columns=vectorizer_tfidf.get_feature_names_out())
tfidf_df.insert(0, 'Sentence', ['S1', 'S2', 'S3'])
print("\nTF.IDF:\n", tfidf_df.round(3).to_string(index=False))

#December 11, 2023
#CSC461 – Assignment4 – NLP
#Numan Latif
#FA21-BSE-039
#In this task we calculate the Cosine, manhattan, and euclidean distances.
#Question 2

from sklearn.feature_extraction.text import TfidfVectorizer
from sklearn.metrics.pairwise import cosine_similarity, manhattan_distances, euclidean_distances

sentence = [
    "data science is one of the most important courses in computer science",
    "this is one of the best data science courses",
    "the data scientists perform data analysis"
]


vectorizer = TfidfVectorizer()
X_tfidf = vectorizer.fit_transform(sentence)


cosine_sim = cosine_similarity(X_tfidf)
print("\nCosine :")
print(pd.DataFrame(cosine_sim, index=['S1', 'S2', 'S3'], columns=['S1', 'S2', 'S3']).round(3))

manhattan_dist = manhattan_distances(X_tfidf)
print("\nManhattan Distance:")
print(pd.DataFrame(manhattan_dist, index=['S1', 'S2', 'S3'], columns=['S1', 'S2', 'S3']).round(3))

euclidean_dist = euclidean_distances(X_tfidf)
print("\nEuclidean Distance:")
print(pd.DataFrame(euclidean_dist, index=['S1', 'S2', 'S3'], columns=['S1', 'S2', 'S3']).round(3))


